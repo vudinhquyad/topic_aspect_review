{
 "cells": [
  {
   "cell_type": "code",
   "execution_count": null,
   "metadata": {},
   "outputs": [],
   "source": [
    "import re\n",
    "import codecs\n",
    "import pandas as pd\n",
    "import operator"
   ]
  },
  {
   "cell_type": "code",
   "execution_count": null,
   "metadata": {},
   "outputs": [],
   "source": [
    "pd.set_option('display.max_colwidth', -1) "
   ]
  },
  {
   "cell_type": "code",
   "execution_count": null,
   "metadata": {},
   "outputs": [],
   "source": [
    "def create_vocab(data_file, maxlen=0, vocab_size=0):\n",
    "    path_to_csv = '../data_clean/'+data_file +'.csv'\n",
    "    df = pd.read_csv(path_to_csv) \n",
    "\n",
    "    total_words, unique_words = 0, 0\n",
    "    word_freqs = {}\n",
    "    top = 0\n",
    "    \n",
    "    for row in df['review']:\n",
    "        words = row.split()\n",
    "        for w in words:\n",
    "            try:\n",
    "                word_freqs[w] += 1\n",
    "            except KeyError:\n",
    "                unique_words += 1\n",
    "                word_freqs[w] = 1\n",
    "            total_words += 1\n",
    "    \n",
    "    \n",
    "    sorted_word_freqs = sorted(word_freqs.items(), key=operator.itemgetter(1), reverse=True)\n",
    "    \n",
    "    vocab = {'<pad>':0, '<unk>':1, '<num>':2}\n",
    "    index = len(vocab)\n",
    "    for word, _ in sorted_word_freqs:\n",
    "        vocab[word] = index\n",
    "        index += 1\n",
    "        \n",
    "    \n",
    "    vocab_file = codecs.open('../vocab', mode='w', encoding='utf8')\n",
    "    \n",
    "    sorted_vocab = sorted(vocab.items(), key=operator.itemgetter(1))\n",
    "    \n",
    "    for word, index in sorted_vocab:\n",
    "        if index < 3:\n",
    "            vocab_file.write(word+'\\t'+str(0)+'\\n')\n",
    "            continue\n",
    "        vocab_file.write(word+'\\t'+str(word_freqs[word])+'\\n')\n",
    "    vocab_file.close()\n",
    "\n",
    "    return vocab"
   ]
  },
  {
   "cell_type": "code",
   "execution_count": null,
   "metadata": {},
   "outputs": [],
   "source": [
    "num_regex = re.compile('^[+-]?[0-9]+\\.?[0-9]*$')\n",
    "\n",
    "def is_number(token):\n",
    "    return bool(num_regex.match(token))"
   ]
  },
  {
   "cell_type": "code",
   "execution_count": null,
   "metadata": {},
   "outputs": [],
   "source": [
    "def read_dataset( data_file, vocab, maxlen):\n",
    "    num_hit, unk_hit, total = 0., 0., 0.\n",
    "    maxlen_x = 0\n",
    "    data_x = []\n",
    "    \n",
    "    path_to_csv = '../data_clean/'+data_file +'.csv'\n",
    "    df = pd.read_csv(path_to_csv)\n",
    "\n",
    "    for row in df['review']:\n",
    "        words = row.strip().split()\n",
    "    \n",
    "        indices = []\n",
    "        for word in words:\n",
    "            if is_number(word):\n",
    "                indices.append(vocab['<num>'])\n",
    "                num_hit += 1\n",
    "            elif word in vocab:\n",
    "                indices.append(vocab[word])\n",
    "            else:\n",
    "                indices.append(vocab['<unk>'])\n",
    "                unk_hit += 1\n",
    "            total += 1\n",
    "\n",
    "        data_x.append(indices)\n",
    "        if maxlen_x < len(indices):\n",
    "            maxlen_x = len(indices)\n",
    "\n",
    "    return data_x, maxlen_x"
   ]
  },
  {
   "cell_type": "code",
   "execution_count": null,
   "metadata": {},
   "outputs": [],
   "source": [
    "def get_data(data_file, vocab_size=0, maxlen=0):\n",
    "    vocab = create_vocab(data_file)\n",
    "    train_x, train_maxlen = read_dataset(data_file, vocab, maxlen)\n",
    "    return vocab, train_x, train_maxlen"
   ]
  }
 ],
 "metadata": {
  "kernelspec": {
   "display_name": "Python 3",
   "language": "python",
   "name": "python3"
  },
  "language_info": {
   "codemirror_mode": {
    "name": "ipython",
    "version": 3
   },
   "file_extension": ".py",
   "mimetype": "text/x-python",
   "name": "python",
   "nbconvert_exporter": "python",
   "pygments_lexer": "ipython3",
   "version": "3.7.4"
  }
 },
 "nbformat": 4,
 "nbformat_minor": 4
}
