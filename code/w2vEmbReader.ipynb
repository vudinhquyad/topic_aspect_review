{
 "cells": [
  {
   "cell_type": "code",
   "execution_count": 1,
   "metadata": {},
   "outputs": [],
   "source": [
    "import codecs\n",
    "import numpy as np\n",
    "import gensim\n",
    "import pickle \n",
    "from sklearn.cluster import KMeans"
   ]
  },
  {
   "cell_type": "code",
   "execution_count": 2,
   "metadata": {},
   "outputs": [],
   "source": [
    "emb_path = True "
   ]
  },
  {
   "cell_type": "code",
   "execution_count": 3,
   "metadata": {},
   "outputs": [],
   "source": [
    "class W2VEmbReader:\n",
    "    def __init__(self, emb_path, emb_dim=None):\n",
    "\n",
    "        self.embeddings = {}\n",
    "        emb_matrix = []\n",
    "       \n",
    "        model = gensim.models.Word2Vec.load(emb_path)\n",
    "        self.emb_dim = emb_dim\n",
    "        for word in model.wv.vocab:\n",
    "            self.embeddings[word] = list(model[word])\n",
    "            emb_matrix.append(list(model[word]))\n",
    "\n",
    "        if emb_dim != None:\n",
    "            assert self.emb_dim == len(self.embeddings['ngon'])\n",
    "            \n",
    "        self.vector_size = len(self.embeddings)\n",
    "        self.emb_matrix = np.asarray(emb_matrix)\n",
    "        \n",
    "    def get_emb_given_word(self, word):\n",
    "        try:\n",
    "            return self.embeddings[word]\n",
    "        except KeyError:\n",
    "            return None\n",
    "        \n",
    "    def get_emb_matrix_given_vocab(self, vocab, emb_matrix):\n",
    "        counter = 0.\n",
    "        for word, index in vocab.items():\n",
    "            try:\n",
    "                emb_matrix[index] = self.embeddings[word]\n",
    "                counter += 1\n",
    "            except KeyError:\n",
    "                pass\n",
    "\n",
    "        norm_emb_matrix = emb_matrix / np.linalg.norm(emb_matrix, axis=-1, keepdims=True)\n",
    "        return norm_emb_matrix\n",
    "    \n",
    "    def get_aspect_matrix(self, n_clusters):\n",
    "        km = KMeans(n_clusters=n_clusters)\n",
    "        km.fit(self.emb_matrix)\n",
    "        clusters = km.cluster_centers_\n",
    "\n",
    "        # L2 normalization\n",
    "        norm_aspect_matrix = clusters / np.linalg.norm(clusters, axis=-1, keepdims=True)\n",
    "        return norm_aspect_matrix.astype(np.float32)\n",
    "    \n",
    "    def get_emb_dim(self):\n",
    "        return self.emb_dim"
   ]
  },
  {
   "cell_type": "code",
   "execution_count": null,
   "metadata": {},
   "outputs": [],
   "source": []
  }
 ],
 "metadata": {
  "kernelspec": {
   "display_name": "Python 3",
   "language": "python",
   "name": "python3"
  },
  "language_info": {
   "codemirror_mode": {
    "name": "ipython",
    "version": 3
   },
   "file_extension": ".py",
   "mimetype": "text/x-python",
   "name": "python",
   "nbconvert_exporter": "python",
   "pygments_lexer": "ipython3",
   "version": "3.7.4"
  }
 },
 "nbformat": 4,
 "nbformat_minor": 4
}
